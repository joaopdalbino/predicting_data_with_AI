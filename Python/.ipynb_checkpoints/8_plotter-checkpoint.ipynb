{
 "cells": [
  {
   "cell_type": "code",
   "execution_count": 1,
   "metadata": {},
   "outputs": [],
   "source": [
    "import matplotlib.pyplot as plt\n",
    "import numpy as np\n",
    "import pandas as pd"
   ]
  },
  {
   "cell_type": "code",
   "execution_count": 10,
   "metadata": {},
   "outputs": [],
   "source": [
    "file = '../data/scored_gdp.csv'"
   ]
  },
  {
   "cell_type": "code",
   "execution_count": 11,
   "metadata": {},
   "outputs": [],
   "source": [
    "df = pd.read_csv(file, delimiter=';', decimal=',')"
   ]
  },
  {
   "cell_type": "code",
   "execution_count": 16,
   "metadata": {},
   "outputs": [
    {
     "data": {
      "text/plain": [
       "(array([ 26.,  68., 121.,  90.,  79.,  63.,  40.,  36.,  26.,  20.,   9.,\n",
       "         15.,  11.,   6.,   8.,   2.,   1.,   2.,   2.,   1.,   2.,   1.,\n",
       "          2.,   0.,   1.,   1.,   1.,   1.,   2.,   1.,   0.,   1.,   0.,\n",
       "          0.,   2.,   0.,   0.,   0.,   0.,   1.,   0.,   0.,   0.,   0.,\n",
       "          0.,   0.,   0.,   0.,   0.,   1.,   0.,   0.,   0.,   0.,   0.,\n",
       "          0.,   0.,   0.,   0.,   0.,   0.,   0.,   0.,   0.,   0.,   0.,\n",
       "          1.,   0.,   0.,   0.,   0.,   0.,   0.,   0.,   1.]),\n",
       " array([  4470.44      ,   7079.99186667,   9689.54373333,  12299.0956    ,\n",
       "         14908.64746667,  17518.19933333,  20127.7512    ,  22737.30306667,\n",
       "         25346.85493333,  27956.4068    ,  30565.95866667,  33175.51053333,\n",
       "         35785.0624    ,  38394.61426667,  41004.16613333,  43613.718     ,\n",
       "         46223.26986667,  48832.82173333,  51442.3736    ,  54051.92546667,\n",
       "         56661.47733333,  59271.0292    ,  61880.58106667,  64490.13293333,\n",
       "         67099.6848    ,  69709.23666667,  72318.78853333,  74928.3404    ,\n",
       "         77537.89226667,  80147.44413333,  82756.996     ,  85366.54786667,\n",
       "         87976.09973333,  90585.6516    ,  93195.20346667,  95804.75533333,\n",
       "         98414.3072    , 101023.85906667, 103633.41093333, 106242.9628    ,\n",
       "        108852.51466667, 111462.06653333, 114071.6184    , 116681.17026667,\n",
       "        119290.72213333, 121900.274     , 124509.82586667, 127119.37773333,\n",
       "        129728.9296    , 132338.48146667, 134948.03333333, 137557.5852    ,\n",
       "        140167.13706667, 142776.68893333, 145386.2408    , 147995.79266667,\n",
       "        150605.34453333, 153214.8964    , 155824.44826667, 158434.00013333,\n",
       "        161043.552     , 163653.10386667, 166262.65573333, 168872.2076    ,\n",
       "        171481.75946667, 174091.31133333, 176700.8632    , 179310.41506667,\n",
       "        181919.96693333, 184529.5188    , 187139.07066667, 189748.62253333,\n",
       "        192358.1744    , 194967.72626667, 197577.27813333, 200186.83      ]),\n",
       " <a list of 75 Patch objects>)"
      ]
     },
     "execution_count": 16,
     "metadata": {},
     "output_type": "execute_result"
    },
    {
     "data": {
      "image/png": "[encoded data removed]",
      "text/plain": [
       "<Figure size 432x288 with 1 Axes>"
      ]
     },
     "metadata": {
      "needs_background": "light"
     },
     "output_type": "display_data"
    }
   ],
   "source": [
    "plt.hist(df['PER CAPITA'], bins='auto')"
   ]
  },
  {
   "cell_type": "code",
   "execution_count": null,
   "metadata": {},
   "outputs": [],
   "source": []
  }
 ],
 "metadata": {
  "kernelspec": {
   "display_name": "Python 2",
   "language": "python",
   "name": "python2"
  },
  "language_info": {
   "codemirror_mode": {
    "name": "ipython",
    "version": 2
   },
   "file_extension": ".py",
   "mimetype": "text/x-python",
   "name": "python",
   "nbconvert_exporter": "python",
   "pygments_lexer": "ipython2",
   "version": "2.7.15"
  }
 },
 "nbformat": 4,
 "nbformat_minor": 2
}
